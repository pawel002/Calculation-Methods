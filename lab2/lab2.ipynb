{
 "cells": [
  {
   "attachments": {},
   "cell_type": "markdown",
   "metadata": {},
   "source": [
    "# Zadanie 1"
   ]
  },
  {
   "cell_type": "code",
   "execution_count": 38,
   "metadata": {},
   "outputs": [
    {
     "name": "stdout",
     "output_type": "stream",
     "text": [
      "Benchmark\n",
      "Test size = 500\n",
      "Lib took: 0.20280742645263672\n",
      "My  took: 1.189450979232788\n",
      "Test size = 700\n",
      "Lib took: 0.019753217697143555\n",
      "My  took: 1.5470285415649414\n",
      "Test size = 900\n",
      "Lib took: 0.025452613830566406\n",
      "My  took: 2.7489516735076904\n",
      "Test size = 1100\n",
      "Lib took: 0.027765989303588867\n",
      "My  took: 4.3326921463012695\n",
      "Test size = 1300\n",
      "Lib took: 0.05028581619262695\n",
      "My  took: 6.3463263511657715\n"
     ]
    }
   ],
   "source": [
    "import numpy as np\n",
    "from math import sqrt\n",
    "from time import time\n",
    "\n",
    "\n",
    "def GaussJordan(A, b):\n",
    "    size = len(A)\n",
    "\n",
    "    A = np.concatenate((A, b.T), axis=1)\n",
    "\n",
    "    for i in range(size):\n",
    "        \n",
    "        # find pivot\n",
    "        pivot, pivotIdx = A[i][i], i\n",
    "        for j in range(i+1, size):\n",
    "            if abs(A[j][i]) > abs(pivot):\n",
    "                pivot = A[j][i]\n",
    "                pivotIdx = j\n",
    "\n",
    "        # swap i-th with pivot\n",
    "        if i != pivotIdx:\n",
    "            A[[i, pivotIdx]] = A[[pivotIdx, i]]\n",
    "\n",
    "        # reduce all rows\n",
    "        for j in range(size):\n",
    "            if j != i:\n",
    "                A[j] -= (A[j][i] / A[i][i]) * A[i]\n",
    "                A[j][i] = 0\n",
    "    \n",
    "    return [A[i][-1]/ A[i][i] for i in range(size)]\n",
    "\n",
    "PRINTRESULT = True\n",
    "SIZE = 10\n",
    "\n",
    "A = np.float32(np.random.randint(0, 10, [SIZE, SIZE]))\n",
    "b = np.array([np.random.randint(0, 10, SIZE)])\n",
    "RIGHT = np.linalg.solve(A, b.T)\n",
    "MYRESULT = GaussJordan(A, b)\n",
    "\n",
    "if PRINTRESULT:\n",
    "    for i in range(SIZE):\n",
    "        print(f\"Correct: {RIGHT[i][0]:>20}, My result: {MYRESULT[i]:>20}\")\n",
    "\n",
    "print(\"Benchmark\")\n",
    "for n in range(500, 1500, 200):\n",
    "    A = np.float32(np.random.randint(0, 10, [n, n]))\n",
    "    b = np.array([np.random.randint(0, 10, n)])\n",
    "\n",
    "    print(\"Test size =\", n)\n",
    "\n",
    "    libStart = time()\n",
    "    RIGHT = np.linalg.solve(A, b.T)\n",
    "    print(\"Lib took:\", time() - libStart)\n",
    "\n",
    "    myStart = time()\n",
    "    MYRESULT = GaussJordan(A, b)\n",
    "    print(\"My  took:\", time() - myStart)"
   ]
  },
  {
   "attachments": {},
   "cell_type": "markdown",
   "metadata": {},
   "source": [
    "# Zadanie 2"
   ]
  },
  {
   "cell_type": "code",
   "execution_count": 85,
   "metadata": {},
   "outputs": [
    {
     "name": "stdout",
     "output_type": "stream",
     "text": [
      "[[7. 9. 4. 9. 0. 2. 1. 1. 5. 2.]\n",
      " [4. 1. 5. 8. 3. 8. 3. 1. 6. 4.]\n",
      " [4. 7. 4. 2. 4. 6. 8. 5. 9. 2.]\n",
      " [0. 7. 0. 6. 6. 8. 9. 9. 2. 9.]\n",
      " [9. 6. 8. 7. 9. 2. 3. 5. 9. 3.]\n",
      " [4. 3. 4. 9. 2. 2. 1. 8. 8. 9.]\n",
      " [3. 3. 2. 3. 3. 2. 9. 7. 4. 5.]\n",
      " [5. 8. 9. 1. 9. 3. 9. 2. 1. 3.]\n",
      " [2. 5. 2. 4. 9. 3. 8. 1. 7. 9.]\n",
      " [6. 4. 9. 5. 6. 1. 4. 8. 0. 8.]]\n",
      "23.560286\n"
     ]
    }
   ],
   "source": [
    "def LUDecomp(A):\n",
    "    size = len(A)\n",
    "\n",
    "    for i in range(size):\n",
    "        \n",
    "        # reduce all rows\n",
    "        for j in range(i, size):\n",
    "            if j != i:\n",
    "                scalingFactor = -(A[j][i] / A[i][i])\n",
    "                A[j] += scalingFactor * A[i]\n",
    "                A[j][i] = scalingFactor\n",
    "\n",
    "    U = np.triu(A)\n",
    "    L = np.tril(A)\n",
    "    np.fill_diagonal(L, 1)\n",
    "    return U, L\n",
    "\n",
    "C = np.float32(np.random.randint(0, 10, [SIZE, SIZE]))\n",
    "print(C)\n",
    "U, L = LUDecomp(C)\n",
    "# wydaje mi sie ze zle wykonuje funckje np.tril() poniewaz pierwszy wiersz nie jest zapisywany w U\n",
    "print(max((C - np.dot(L, U)).flatten())) # 2 norma macierz C - UL"
   ]
  },
  {
   "cell_type": "code",
   "execution_count": null,
   "metadata": {},
   "outputs": [],
   "source": []
  }
 ],
 "metadata": {
  "kernelspec": {
   "display_name": "Python 3",
   "language": "python",
   "name": "python3"
  },
  "language_info": {
   "codemirror_mode": {
    "name": "ipython",
    "version": 3
   },
   "file_extension": ".py",
   "mimetype": "text/x-python",
   "name": "python",
   "nbconvert_exporter": "python",
   "pygments_lexer": "ipython3",
   "version": "3.9.5"
  },
  "orig_nbformat": 4
 },
 "nbformat": 4,
 "nbformat_minor": 2
}
