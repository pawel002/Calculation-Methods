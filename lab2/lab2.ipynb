{
 "cells": [
  {
   "attachments": {},
   "cell_type": "markdown",
   "metadata": {},
   "source": [
    "# Zadanie 1"
   ]
  },
  {
   "cell_type": "code",
   "execution_count": 14,
   "metadata": {},
   "outputs": [],
   "source": [
    "import numpy as np\n",
    "from math import sqrt"
   ]
  },
  {
   "attachments": {},
   "cell_type": "markdown",
   "metadata": {},
   "source": [
    "# Zadanie 2\n",
    "\n",
    "1. Aby dokonac faktoryzacji możemy użyć dekompozycji Choleskiego."
   ]
  },
  {
   "cell_type": "code",
   "execution_count": 62,
   "metadata": {},
   "outputs": [
    {
     "name": "stdout",
     "output_type": "stream",
     "text": [
      "2-norm of A - LU is equal to: 1.7763568394002505e-15\n"
     ]
    }
   ],
   "source": [
    "size = 10\n",
    "\n",
    "def cholesky(A):\n",
    "\n",
    "    res = np.zeros([len(A), len(A)])\n",
    "    \n",
    "    for i in range(len(A)):\n",
    "        for j in range(i+1):\n",
    "\n",
    "            s = 0.0\n",
    "\n",
    "            for k in range(j):\n",
    "                s += res[i][k] * res[j][k]\n",
    "\n",
    "            if i == j:\n",
    "                res[i][j] = np.sqrt(A[i][i] - s)\n",
    "\n",
    "            else:\n",
    "                res[i][j] = (A[i][j] - s) / res[j][j]\n",
    "\n",
    "    return  res\n",
    "\n",
    "\n",
    "A = np.random.random([size, size])\n",
    "A = 0.5*(A + np.transpose(A)) + size * np.eye(size)\n",
    "ch = cholesky(A)\n",
    "print(\"2-norm of A - LU is equal to:\", max((A - np.dot(ch, np.transpose(ch))).flatten()))"
   ]
  }
 ],
 "metadata": {
  "kernelspec": {
   "display_name": "Python 3",
   "language": "python",
   "name": "python3"
  },
  "language_info": {
   "codemirror_mode": {
    "name": "ipython",
    "version": 3
   },
   "file_extension": ".py",
   "mimetype": "text/x-python",
   "name": "python",
   "nbconvert_exporter": "python",
   "pygments_lexer": "ipython3",
   "version": "3.9.5"
  },
  "orig_nbformat": 4
 },
 "nbformat": 4,
 "nbformat_minor": 2
}
